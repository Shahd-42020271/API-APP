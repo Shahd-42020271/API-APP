{
  "cells": [
    {
      "cell_type": "markdown",
      "id": "83a82ec9",
      "metadata": {
        "id": "83a82ec9"
      },
      "source": [
        "# Medical Specialty Recommender\n",
        "Trying to train a TF-IDF model which takes a text query from the patient and recommends to them which medical specialty to look for."
      ]
    },
    {
      "cell_type": "code",
      "execution_count": 3,
      "id": "3c64b3dc",
      "metadata": {},
      "outputs": [
        {
          "name": "stdout",
          "output_type": "stream",
          "text": [
            "Collecting nltk\n",
            "  Downloading nltk-3.8.1-py3-none-any.whl (1.5 MB)\n",
            "     ---------------------------------------- 1.5/1.5 MB 578.4 kB/s eta 0:00:00\n",
            "Requirement already satisfied: joblib in c:\\users\\yasmine\\appdata\\local\\programs\\python\\python310\\lib\\site-packages (from nltk) (1.3.2)\n",
            "Collecting tqdm\n",
            "  Downloading tqdm-4.66.4-py3-none-any.whl (78 kB)\n",
            "     -------------------------------------- 78.3/78.3 kB 872.2 kB/s eta 0:00:00\n",
            "Collecting regex>=2021.8.3\n",
            "  Downloading regex-2024.5.10-cp310-cp310-win_amd64.whl (268 kB)\n",
            "     ------------------------------------ 269.0/269.0 kB 871.1 kB/s eta 0:00:00\n",
            "Requirement already satisfied: click in c:\\users\\yasmine\\appdata\\local\\programs\\python\\python310\\lib\\site-packages (from nltk) (8.1.7)\n",
            "Requirement already satisfied: colorama in c:\\users\\yasmine\\appdata\\roaming\\python\\python310\\site-packages (from click->nltk) (0.4.6)\n",
            "Installing collected packages: tqdm, regex, nltk\n",
            "Successfully installed nltk-3.8.1 regex-2024.5.10 tqdm-4.66.4\n"
          ]
        },
        {
          "name": "stderr",
          "output_type": "stream",
          "text": [
            "\n",
            "[notice] A new release of pip available: 22.2.1 -> 24.0\n",
            "[notice] To update, run: python.exe -m pip install --upgrade pip\n"
          ]
        }
      ],
      "source": [
        "!pip install nltk"
      ]
    },
    {
      "cell_type": "code",
      "execution_count": 4,
      "id": "b96f04be",
      "metadata": {
        "colab": {
          "base_uri": "https://localhost:8080/"
        },
        "id": "b96f04be",
        "outputId": "148a1366-b4de-4fdc-cb90-af5450fe1aa1"
      },
      "outputs": [
        {
          "name": "stderr",
          "output_type": "stream",
          "text": [
            "[nltk_data] Downloading package punkt to\n",
            "[nltk_data]     C:\\Users\\Yasmine\\AppData\\Roaming\\nltk_data...\n",
            "[nltk_data]   Unzipping tokenizers\\punkt.zip.\n",
            "[nltk_data] Downloading package wordnet to\n",
            "[nltk_data]     C:\\Users\\Yasmine\\AppData\\Roaming\\nltk_data...\n",
            "[nltk_data] Downloading package omw-1.4 to\n",
            "[nltk_data]     C:\\Users\\Yasmine\\AppData\\Roaming\\nltk_data...\n",
            "[nltk_data] Downloading package stopwords to\n",
            "[nltk_data]     C:\\Users\\Yasmine\\AppData\\Roaming\\nltk_data...\n",
            "[nltk_data]   Unzipping corpora\\stopwords.zip.\n"
          ]
        },
        {
          "data": {
            "text/plain": [
              "True"
            ]
          },
          "execution_count": 4,
          "metadata": {},
          "output_type": "execute_result"
        }
      ],
      "source": [
        "# Some necessary NLP resources\n",
        "import nltk\n",
        "nltk.download('punkt')\n",
        "nltk.download('wordnet')\n",
        "nltk.download('omw-1.4')\n",
        "nltk.download('stopwords')"
      ]
    },
    {
      "cell_type": "code",
      "execution_count": 1,
      "id": "9bcfd51e",
      "metadata": {
        "id": "9bcfd51e"
      },
      "outputs": [
        {
          "name": "stderr",
          "output_type": "stream",
          "text": [
            "C:\\Users\\Yasmine\\AppData\\Local\\Temp\\ipykernel_904\\4080736814.py:1: DeprecationWarning: \n",
            "Pyarrow will become a required dependency of pandas in the next major release of pandas (pandas 3.0),\n",
            "(to allow more performant data types, such as the Arrow string type, and better interoperability with other libraries)\n",
            "but was not found to be installed on your system.\n",
            "If this would cause problems for you,\n",
            "please provide us feedback at https://github.com/pandas-dev/pandas/issues/54466\n",
            "        \n",
            "  import pandas as pd\n"
          ]
        }
      ],
      "source": [
        "import pandas as pd"
      ]
    },
    {
      "cell_type": "markdown",
      "id": "c9b47c75",
      "metadata": {
        "id": "c9b47c75"
      },
      "source": [
        "# Loading and Preparing the Dataset\n",
        "We need a dataset that is comprised of medical specialties and their descriptions. We compile descriptions of what each medical specialty deals with."
      ]
    },
    {
      "cell_type": "markdown",
      "id": "38fab669",
      "metadata": {
        "id": "38fab669"
      },
      "source": [
        "### Now we can work with the new CSV"
      ]
    },
    {
      "cell_type": "code",
      "execution_count": 2,
      "id": "3474acc5",
      "metadata": {
        "colab": {
          "base_uri": "https://localhost:8080/",
          "height": 329
        },
        "id": "3474acc5",
        "outputId": "76c65f1f-7def-445b-e05c-9550f3fe48ae"
      },
      "outputs": [],
      "source": [
        "pd.options.display.max_colwidth = 250\n",
        "df = pd.read_csv(\"SpecialtyDescriptions.csv\", usecols=[\"Specialty\", \"sentence\"])"
      ]
    },
    {
      "cell_type": "code",
      "execution_count": 7,
      "id": "2d553b39",
      "metadata": {
        "colab": {
          "base_uri": "https://localhost:8080/",
          "height": 191
        },
        "id": "2d553b39",
        "outputId": "04739830-c0fd-4114-e400-c9f993eb0749",
        "scrolled": true
      },
      "outputs": [
        {
          "data": {
            "text/html": [
              "<div>\n",
              "<style scoped>\n",
              "    .dataframe tbody tr th:only-of-type {\n",
              "        vertical-align: middle;\n",
              "    }\n",
              "\n",
              "    .dataframe tbody tr th {\n",
              "        vertical-align: top;\n",
              "    }\n",
              "\n",
              "    .dataframe thead th {\n",
              "        text-align: right;\n",
              "    }\n",
              "</style>\n",
              "<table border=\"1\" class=\"dataframe\">\n",
              "  <thead>\n",
              "    <tr style=\"text-align: right;\">\n",
              "      <th></th>\n",
              "      <th>Specialty</th>\n",
              "      <th>sentence</th>\n",
              "    </tr>\n",
              "  </thead>\n",
              "  <tbody>\n",
              "    <tr>\n",
              "      <th>14</th>\n",
              "      <td>Nephrology</td>\n",
              "      <td>Nephrologists are specialized physicians who diagnose, treat, and manage acute and chronic kidney conditions. Living with kidney conditions can be very difficult and affect one’s quality of life, so it’s always important to prioritize preventive ...</td>\n",
              "    </tr>\n",
              "    <tr>\n",
              "      <th>5</th>\n",
              "      <td>Hematology</td>\n",
              "      <td>A hematologist is a doctor who specializes in researching, diagnosing, treating, and preventing blood disorders and disorders of the lymphatic system (lymph nodes and vessels).\\nIf your primary care physician has recommended that you see a hemato...</td>\n",
              "    </tr>\n",
              "  </tbody>\n",
              "</table>\n",
              "</div>"
            ],
            "text/plain": [
              "     Specialty  \\\n",
              "14  Nephrology   \n",
              "5   Hematology   \n",
              "\n",
              "                                                                                                                                                                                                                                                     sentence  \n",
              "14  Nephrologists are specialized physicians who diagnose, treat, and manage acute and chronic kidney conditions. Living with kidney conditions can be very difficult and affect one’s quality of life, so it’s always important to prioritize preventive ...  \n",
              "5   A hematologist is a doctor who specializes in researching, diagnosing, treating, and preventing blood disorders and disorders of the lymphatic system (lymph nodes and vessels).\\nIf your primary care physician has recommended that you see a hemato...  "
            ]
          },
          "execution_count": 7,
          "metadata": {},
          "output_type": "execute_result"
        }
      ],
      "source": [
        "df.sample(2)"
      ]
    },
    {
      "cell_type": "markdown",
      "id": "e854e685",
      "metadata": {
        "id": "e854e685"
      },
      "source": [
        "## Preparing the NLP Functions Needed"
      ]
    },
    {
      "cell_type": "code",
      "execution_count": 3,
      "id": "f0f95ac7",
      "metadata": {
        "id": "f0f95ac7"
      },
      "outputs": [],
      "source": [
        "# Drop specialties without a description sentence\n",
        "df.dropna(inplace=True)"
      ]
    },
    {
      "cell_type": "code",
      "execution_count": 4,
      "id": "80d40286",
      "metadata": {
        "colab": {
          "base_uri": "https://localhost:8080/"
        },
        "id": "80d40286",
        "outputId": "d2d3094d-9c3e-47f8-af1b-196e13651214"
      },
      "outputs": [
        {
          "name": "stdout",
          "output_type": "stream",
          "text": [
            "Cleaning sentences...\n"
          ]
        }
      ],
      "source": [
        "from nltk.stem import WordNetLemmatizer\n",
        "from nltk.corpus import stopwords\n",
        "from nltk.tokenize import word_tokenize\n",
        "import re\n",
        "\n",
        "STOPWORDS = set(stopwords.words('english'))\n",
        "MIN_WORDS = 4\n",
        "MAX_WORDS = 200\n",
        "\n",
        "PATTERN_S = re.compile(\"\\'s\")  # matches `'s` from text\n",
        "PATTERN_RN = re.compile(\"\\\\r\\\\n\") #matches `\\r` and `\\n`\n",
        "PATTERN_PUNC = re.compile(r\"[^\\w\\s]\") # matches all non 0-9 A-z whitespace\n",
        "\n",
        "def clean_text(text):\n",
        "    \"\"\"\n",
        "    Series of cleaning. String to lowercase, remove nonwords characters and numbers.\n",
        "    text (str): input text\n",
        "    return (str): modified initial text\n",
        "    \"\"\"\n",
        "    text = text.lower()  # lowercase text\n",
        "    text = re.sub(PATTERN_S, ' ', text)\n",
        "    text = re.sub(PATTERN_RN, ' ', text)\n",
        "    text = re.sub(PATTERN_PUNC, ' ', text)\n",
        "    return text\n",
        "\n",
        "def tokenizer(sentence, min_words=MIN_WORDS, max_words=MAX_WORDS, stopwords=STOPWORDS, lemmatize=True):\n",
        "    \"\"\"\n",
        "    Lemmatize, tokenize, crop and remove stopwords.\n",
        "    \"\"\"\n",
        "    if lemmatize:\n",
        "        stemmer = WordNetLemmatizer()\n",
        "        tokens = [stemmer.lemmatize(w) for w in word_tokenize(sentence)]\n",
        "    else:\n",
        "        tokens = [w for w in word_tokenize(sentence)]\n",
        "    token = [w for w in tokens if (len(w) > min_words and len(w) < max_words and w not in stopwords)]\n",
        "    return tokens\n",
        "\n",
        "\n",
        "def clean_sentences(df):\n",
        "    \"\"\"\n",
        "    Remove irrelavant characters (in new column clean_sentence).\n",
        "    Lemmatize, tokenize words into list of words (in new column tok_lem_sentence).\n",
        "    \"\"\"\n",
        "    print('Cleaning sentences...')\n",
        "    df['clean_sentence'] = df['sentence'].apply(clean_text)\n",
        "    df['tok_lem_sentence'] = df['clean_sentence'].apply(\n",
        "        lambda x: tokenizer(x, min_words=MIN_WORDS, max_words=MAX_WORDS, stopwords=STOPWORDS, lemmatize=True))\n",
        "    return df\n",
        "\n",
        "df = clean_sentences(df)"
      ]
    },
    {
      "cell_type": "code",
      "execution_count": 5,
      "id": "e91c6187",
      "metadata": {
        "colab": {
          "base_uri": "https://localhost:8080/",
          "height": 1000
        },
        "id": "e91c6187",
        "outputId": "4370ed24-8762-4bec-fc7d-5e60d0402340"
      },
      "outputs": [
        {
          "name": "stdout",
          "output_type": "stream",
          "text": [
            "18\n"
          ]
        },
        {
          "data": {
            "text/html": [
              "<div>\n",
              "<style scoped>\n",
              "    .dataframe tbody tr th:only-of-type {\n",
              "        vertical-align: middle;\n",
              "    }\n",
              "\n",
              "    .dataframe tbody tr th {\n",
              "        vertical-align: top;\n",
              "    }\n",
              "\n",
              "    .dataframe thead th {\n",
              "        text-align: right;\n",
              "    }\n",
              "</style>\n",
              "<table border=\"1\" class=\"dataframe\">\n",
              "  <thead>\n",
              "    <tr style=\"text-align: right;\">\n",
              "      <th></th>\n",
              "      <th>sentence</th>\n",
              "      <th>clean_sentence</th>\n",
              "      <th>tok_lem_sentence</th>\n",
              "    </tr>\n",
              "  </thead>\n",
              "  <tbody>\n",
              "    <tr>\n",
              "      <th>0</th>\n",
              "      <td>What does a gynecologist do?\\nA gynecologist is a doctor who specializes in women's reproductive health.\\nThat is, a gynecologist is a specialist with expertise treating issues or conditions affecting a woman's reproductive system, including:\\nVa...</td>\n",
              "      <td>what does a gynecologist do \\na gynecologist is a doctor who specializes in women  reproductive health \\nthat is  a gynecologist is a specialist with expertise treating issues or conditions affecting a woman  reproductive system  including \\nvagi...</td>\n",
              "      <td>[what, doe, a, gynecologist, do, a, gynecologist, is, a, doctor, who, specializes, in, woman, reproductive, health, that, is, a, gynecologist, is, a, specialist, with, expertise, treating, issue, or, condition, affecting, a, woman, reproductive, ...</td>\n",
              "    </tr>\n",
              "    <tr>\n",
              "      <th>1</th>\n",
              "      <td>An otolaryngologist, or ENT, is a healthcare specialist who treats conditions affecting your ears, nose and throat. They can also perform head and neck surgeries, including surgeries on your ears, mouth, throat, nose, neck and face.\\nAnother name...</td>\n",
              "      <td>an otolaryngologist  or ent  is a healthcare specialist who treats conditions affecting your ears  nose and throat  they can also perform head and neck surgeries  including surgeries on your ears  mouth  throat  nose  neck and face \\nanother name...</td>\n",
              "      <td>[an, otolaryngologist, or, ent, is, a, healthcare, specialist, who, treat, condition, affecting, your, ear, nose, and, throat, they, can, also, perform, head, and, neck, surgery, including, surgery, on, your, ear, mouth, throat, nose, neck, and, ...</td>\n",
              "    </tr>\n",
              "    <tr>\n",
              "      <th>2</th>\n",
              "      <td>You don’t want to take any chances of losing your vision. This is why it’s smart to know when you need to visit an eye doctor. Here are a few signs that you might need to book an appointment with a specialist:\\nBlurry Vision\\nSudden changes in vi...</td>\n",
              "      <td>you don t want to take any chances of losing your vision  this is why it s smart to know when you need to visit an eye doctor  here are a few signs that you might need to book an appointment with a specialist \\nblurry vision\\nsudden changes in vi...</td>\n",
              "      <td>[you, don, t, want, to, take, any, chance, of, losing, your, vision, this, is, why, it, s, smart, to, know, when, you, need, to, visit, an, eye, doctor, here, are, a, few, sign, that, you, might, need, to, book, an, appointment, with, a, speciali...</td>\n",
              "    </tr>\n",
              "    <tr>\n",
              "      <th>3</th>\n",
              "      <td>A pulmonologist is a physician who specializes in the respiratory system. From the windpipe to the lungs, if your complaint involves the lungs or any part of the respiratory system, a pulmonologist is the doc you want to solve the problem.\\nA sim...</td>\n",
              "      <td>a pulmonologist is a physician who specializes in the respiratory system  from the windpipe to the lungs  if your complaint involves the lungs or any part of the respiratory system  a pulmonologist is the doc you want to solve the problem \\na sim...</td>\n",
              "      <td>[a, pulmonologist, is, a, physician, who, specializes, in, the, respiratory, system, from, the, windpipe, to, the, lung, if, your, complaint, involves, the, lung, or, any, part, of, the, respiratory, system, a, pulmonologist, is, the, doc, you, w...</td>\n",
              "    </tr>\n",
              "    <tr>\n",
              "      <th>4</th>\n",
              "      <td>Reasons to See an Internist\\nSigns that a patient needs to see an internal medicine doctor\\nThe list below includes common signs that may make it necessary for patients to make an appointment with an internist.\\nThey have chronic pain\\nWhen a pat...</td>\n",
              "      <td>reasons to see an internist\\nsigns that a patient needs to see an internal medicine doctor\\nthe list below includes common signs that may make it necessary for patients to make an appointment with an internist \\nthey have chronic pain\\nwhen a pat...</td>\n",
              "      <td>[reason, to, see, an, internist, sign, that, a, patient, need, to, see, an, internal, medicine, doctor, the, list, below, includes, common, sign, that, may, make, it, necessary, for, patient, to, make, an, appointment, with, an, internist, they, ...</td>\n",
              "    </tr>\n",
              "    <tr>\n",
              "      <th>5</th>\n",
              "      <td>A hematologist is a doctor who specializes in researching, diagnosing, treating, and preventing blood disorders and disorders of the lymphatic system (lymph nodes and vessels).\\nIf your primary care physician has recommended that you see a hemato...</td>\n",
              "      <td>a hematologist is a doctor who specializes in researching  diagnosing  treating  and preventing blood disorders and disorders of the lymphatic system  lymph nodes and vessels  \\nif your primary care physician has recommended that you see a hemato...</td>\n",
              "      <td>[a, hematologist, is, a, doctor, who, specializes, in, researching, diagnosing, treating, and, preventing, blood, disorder, and, disorder, of, the, lymphatic, system, lymph, node, and, vessel, if, your, primary, care, physician, ha, recommended, ...</td>\n",
              "    </tr>\n",
              "    <tr>\n",
              "      <th>6</th>\n",
              "      <td>Not everyone who has an infectious disease needs an infectious disease specialist. Your general internist or Primary Care Physician can take care of most infections, but sometimes specialized expertise is needed to either diagnose or manage speci...</td>\n",
              "      <td>not everyone who has an infectious disease needs an infectious disease specialist  your general internist or primary care physician can take care of most infections  but sometimes specialized expertise is needed to either diagnose or manage speci...</td>\n",
              "      <td>[not, everyone, who, ha, an, infectious, disease, need, an, infectious, disease, specialist, your, general, internist, or, primary, care, physician, can, take, care, of, most, infection, but, sometimes, specialized, expertise, is, needed, to, eit...</td>\n",
              "    </tr>\n",
              "    <tr>\n",
              "      <th>7</th>\n",
              "      <td>What Does a Cardiologist Do?\\nYour cardiologist, or heart doctor, helps prevent heart disease through screenings and checkups. They treat symptoms of heart conditions or heart diseases. These diseases can include:\\nheart attacks, when blood flow ...</td>\n",
              "      <td>what does a cardiologist do \\nyour cardiologist  or heart doctor  helps prevent heart disease through screenings and checkups  they treat symptoms of heart conditions or heart diseases  these diseases can include \\nheart attacks  when blood flow ...</td>\n",
              "      <td>[what, doe, a, cardiologist, do, your, cardiologist, or, heart, doctor, help, prevent, heart, disease, through, screening, and, checkup, they, treat, symptom, of, heart, condition, or, heart, disease, these, disease, can, include, heart, attack, ...</td>\n",
              "    </tr>\n",
              "    <tr>\n",
              "      <th>8</th>\n",
              "      <td>A psychiatrist is a medical doctor who’s an expert in the field of psychiatry — the branch of medicine focused on the diagnosis, treatment and prevention of mental, emotional and behavioral disorders.\\nPsychiatrists can diagnose and treat several...</td>\n",
              "      <td>a psychiatrist is a medical doctor who s an expert in the field of psychiatry   the branch of medicine focused on the diagnosis  treatment and prevention of mental  emotional and behavioral disorders \\npsychiatrists can diagnose and treat several...</td>\n",
              "      <td>[a, psychiatrist, is, a, medical, doctor, who, s, an, expert, in, the, field, of, psychiatry, the, branch, of, medicine, focused, on, the, diagnosis, treatment, and, prevention, of, mental, emotional, and, behavioral, disorder, psychiatrist, can,...</td>\n",
              "    </tr>\n",
              "    <tr>\n",
              "      <th>9</th>\n",
              "      <td>Scars, Acne, Moles?\\nAs your body’s first line of defense, your skin takes a lot of hits. Not only is it the largest organ in your body, but your skin also protects you from germs; repels water; and covers your blood vessels, nerves, and organs....</td>\n",
              "      <td>scars  acne  moles \\nas your body s first line of defense  your skin takes a lot of hits  not only is it the largest organ in your body  but your skin also protects you from germs  repels water  and covers your blood vessels  nerves  and organs ...</td>\n",
              "      <td>[scar, acne, mole, a, your, body, s, first, line, of, defense, your, skin, take, a, lot, of, hit, not, only, is, it, the, largest, organ, in, your, body, but, your, skin, also, protects, you, from, germ, repels, water, and, cover, your, blood, ve...</td>\n",
              "    </tr>\n",
              "    <tr>\n",
              "      <th>10</th>\n",
              "      <td>If you have unexplained or frequent digestive issues, such as abdominal discomfort or changes to your bowel habits, someone's probably told you to see a gastroenterologist, also sometimes referred to as a GI doctor.\\nBut if you've never seen a ga...</td>\n",
              "      <td>if you have unexplained or frequent digestive issues  such as abdominal discomfort or changes to your bowel habits  someone  probably told you to see a gastroenterologist  also sometimes referred to as a gi doctor \\nbut if you ve never seen a gas...</td>\n",
              "      <td>[if, you, have, unexplained, or, frequent, digestive, issue, such, a, abdominal, discomfort, or, change, to, your, bowel, habit, someone, probably, told, you, to, see, a, gastroenterologist, also, sometimes, referred, to, a, a, gi, doctor, but, i...</td>\n",
              "    </tr>\n",
              "    <tr>\n",
              "      <th>11</th>\n",
              "      <td>Signs and Symptoms of Cancer\\nSigns and symptoms are how the body lets you know you are hurt or sick. Signs can be seen and measured, such as a fever or bleeding. Symptoms are what you feel or notice. Most signs and symptoms of illness do not me...</td>\n",
              "      <td>signs and symptoms of cancer\\nsigns and symptoms are how the body lets you know you are hurt or sick  signs can be seen and measured  such as a fever or bleeding  symptoms are what you feel or notice  most signs and symptoms of illness do not me...</td>\n",
              "      <td>[sign, and, symptom, of, cancer, sign, and, symptom, are, how, the, body, let, you, know, you, are, hurt, or, sick, sign, can, be, seen, and, measured, such, a, a, fever, or, bleeding, symptom, are, what, you, feel, or, notice, most, sign, and, s...</td>\n",
              "    </tr>\n",
              "    <tr>\n",
              "      <th>12</th>\n",
              "      <td>1. Shoulder Pain\\nPain in shoulders that increases at night and gets worse with movement should be examined by an orthopedic doctor. These symptoms are often combined with tenderness around a joint and can be a sign of tendonitis. This condition,...</td>\n",
              "      <td>1  shoulder pain\\npain in shoulders that increases at night and gets worse with movement should be examined by an orthopedic doctor  these symptoms are often combined with tenderness around a joint and can be a sign of tendonitis  this condition ...</td>\n",
              "      <td>[1, shoulder, pain, pain, in, shoulder, that, increase, at, night, and, get, worse, with, movement, should, be, examined, by, an, orthopedic, doctor, these, symptom, are, often, combined, with, tenderness, around, a, joint, and, can, be, a, sign,...</td>\n",
              "    </tr>\n",
              "    <tr>\n",
              "      <th>13</th>\n",
              "      <td>When Do You Need a Radiologist?\\nA radiologist will be involved in your care if your doctor needs assistance with imaging or certain specialized treatments.\\nSome common reasons you might need a radiologist are:\\nBroken bone\\nTorn muscle\\nPregnan...</td>\n",
              "      <td>when do you need a radiologist \\na radiologist will be involved in your care if your doctor needs assistance with imaging or certain specialized treatments \\nsome common reasons you might need a radiologist are \\nbroken bone\\ntorn muscle\\npregnan...</td>\n",
              "      <td>[when, do, you, need, a, radiologist, a, radiologist, will, be, involved, in, your, care, if, your, doctor, need, assistance, with, imaging, or, certain, specialized, treatment, some, common, reason, you, might, need, a, radiologist, are, broken,...</td>\n",
              "    </tr>\n",
              "    <tr>\n",
              "      <th>14</th>\n",
              "      <td>Nephrologists are specialized physicians who diagnose, treat, and manage acute and chronic kidney conditions. Living with kidney conditions can be very difficult and affect one’s quality of life, so it’s always important to prioritize preventive ...</td>\n",
              "      <td>nephrologists are specialized physicians who diagnose  treat  and manage acute and chronic kidney conditions  living with kidney conditions can be very difficult and affect one s quality of life  so it s always important to prioritize preventive ...</td>\n",
              "      <td>[nephrologists, are, specialized, physician, who, diagnose, treat, and, manage, acute, and, chronic, kidney, condition, living, with, kidney, condition, can, be, very, difficult, and, affect, one, s, quality, of, life, so, it, s, always, importan...</td>\n",
              "    </tr>\n",
              "    <tr>\n",
              "      <th>16</th>\n",
              "      <td>A urologist is a medical doctor specializing in conditions that affect the urinary tract in men, women and children, and diseases that affect the reproductive system. These conditions range from peeing too much or too little to being unable to fa...</td>\n",
              "      <td>a urologist is a medical doctor specializing in conditions that affect the urinary tract in men  women and children  and diseases that affect the reproductive system  these conditions range from peeing too much or too little to being unable to fa...</td>\n",
              "      <td>[a, urologist, is, a, medical, doctor, specializing, in, condition, that, affect, the, urinary, tract, in, men, woman, and, child, and, disease, that, affect, the, reproductive, system, these, condition, range, from, peeing, too, much, or, too, l...</td>\n",
              "    </tr>\n",
              "    <tr>\n",
              "      <th>17</th>\n",
              "      <td>What is an endocrinologist?\\nAn endocrinologist is a healthcare provider who specializes in endocrinology, a field of medicine that studies conditions related to your hormones. An endocrinologist can diagnose endocrine conditions, develop treatme...</td>\n",
              "      <td>what is an endocrinologist \\nan endocrinologist is a healthcare provider who specializes in endocrinology  a field of medicine that studies conditions related to your hormones  an endocrinologist can diagnose endocrine conditions  develop treatme...</td>\n",
              "      <td>[what, is, an, endocrinologist, an, endocrinologist, is, a, healthcare, provider, who, specializes, in, endocrinology, a, field, of, medicine, that, study, condition, related, to, your, hormone, an, endocrinologist, can, diagnose, endocrine, cond...</td>\n",
              "    </tr>\n",
              "    <tr>\n",
              "      <th>18</th>\n",
              "      <td>A neurologist is a specialist who treats diseases in the brain and spinal cord (the central nervous system), peripheral nerves (nerves connecting the brain and spine to the organs, like the lungs or liver), and muscles. Neurological diseases can ...</td>\n",
              "      <td>a neurologist is a specialist who treats diseases in the brain and spinal cord  the central nervous system   peripheral nerves  nerves connecting the brain and spine to the organs  like the lungs or liver   and muscles  neurological diseases can ...</td>\n",
              "      <td>[a, neurologist, is, a, specialist, who, treat, disease, in, the, brain, and, spinal, cord, the, central, nervous, system, peripheral, nerve, nerve, connecting, the, brain, and, spine, to, the, organ, like, the, lung, or, liver, and, muscle, neur...</td>\n",
              "    </tr>\n",
              "  </tbody>\n",
              "</table>\n",
              "</div>"
            ],
            "text/plain": [
              "                                                                                                                                                                                                                                                     sentence  \\\n",
              "0   What does a gynecologist do?\\nA gynecologist is a doctor who specializes in women's reproductive health.\\nThat is, a gynecologist is a specialist with expertise treating issues or conditions affecting a woman's reproductive system, including:\\nVa...   \n",
              "1   An otolaryngologist, or ENT, is a healthcare specialist who treats conditions affecting your ears, nose and throat. They can also perform head and neck surgeries, including surgeries on your ears, mouth, throat, nose, neck and face.\\nAnother name...   \n",
              "2   You don’t want to take any chances of losing your vision. This is why it’s smart to know when you need to visit an eye doctor. Here are a few signs that you might need to book an appointment with a specialist:\\nBlurry Vision\\nSudden changes in vi...   \n",
              "3   A pulmonologist is a physician who specializes in the respiratory system. From the windpipe to the lungs, if your complaint involves the lungs or any part of the respiratory system, a pulmonologist is the doc you want to solve the problem.\\nA sim...   \n",
              "4   Reasons to See an Internist\\nSigns that a patient needs to see an internal medicine doctor\\nThe list below includes common signs that may make it necessary for patients to make an appointment with an internist.\\nThey have chronic pain\\nWhen a pat...   \n",
              "5   A hematologist is a doctor who specializes in researching, diagnosing, treating, and preventing blood disorders and disorders of the lymphatic system (lymph nodes and vessels).\\nIf your primary care physician has recommended that you see a hemato...   \n",
              "6   Not everyone who has an infectious disease needs an infectious disease specialist. Your general internist or Primary Care Physician can take care of most infections, but sometimes specialized expertise is needed to either diagnose or manage speci...   \n",
              "7   What Does a Cardiologist Do?\\nYour cardiologist, or heart doctor, helps prevent heart disease through screenings and checkups. They treat symptoms of heart conditions or heart diseases. These diseases can include:\\nheart attacks, when blood flow ...   \n",
              "8   A psychiatrist is a medical doctor who’s an expert in the field of psychiatry — the branch of medicine focused on the diagnosis, treatment and prevention of mental, emotional and behavioral disorders.\\nPsychiatrists can diagnose and treat several...   \n",
              "9    Scars, Acne, Moles?\\nAs your body’s first line of defense, your skin takes a lot of hits. Not only is it the largest organ in your body, but your skin also protects you from germs; repels water; and covers your blood vessels, nerves, and organs....   \n",
              "10  If you have unexplained or frequent digestive issues, such as abdominal discomfort or changes to your bowel habits, someone's probably told you to see a gastroenterologist, also sometimes referred to as a GI doctor.\\nBut if you've never seen a ga...   \n",
              "11   Signs and Symptoms of Cancer\\nSigns and symptoms are how the body lets you know you are hurt or sick. Signs can be seen and measured, such as a fever or bleeding. Symptoms are what you feel or notice. Most signs and symptoms of illness do not me...   \n",
              "12  1. Shoulder Pain\\nPain in shoulders that increases at night and gets worse with movement should be examined by an orthopedic doctor. These symptoms are often combined with tenderness around a joint and can be a sign of tendonitis. This condition,...   \n",
              "13  When Do You Need a Radiologist?\\nA radiologist will be involved in your care if your doctor needs assistance with imaging or certain specialized treatments.\\nSome common reasons you might need a radiologist are:\\nBroken bone\\nTorn muscle\\nPregnan...   \n",
              "14  Nephrologists are specialized physicians who diagnose, treat, and manage acute and chronic kidney conditions. Living with kidney conditions can be very difficult and affect one’s quality of life, so it’s always important to prioritize preventive ...   \n",
              "16  A urologist is a medical doctor specializing in conditions that affect the urinary tract in men, women and children, and diseases that affect the reproductive system. These conditions range from peeing too much or too little to being unable to fa...   \n",
              "17  What is an endocrinologist?\\nAn endocrinologist is a healthcare provider who specializes in endocrinology, a field of medicine that studies conditions related to your hormones. An endocrinologist can diagnose endocrine conditions, develop treatme...   \n",
              "18  A neurologist is a specialist who treats diseases in the brain and spinal cord (the central nervous system), peripheral nerves (nerves connecting the brain and spine to the organs, like the lungs or liver), and muscles. Neurological diseases can ...   \n",
              "\n",
              "                                                                                                                                                                                                                                               clean_sentence  \\\n",
              "0   what does a gynecologist do \\na gynecologist is a doctor who specializes in women  reproductive health \\nthat is  a gynecologist is a specialist with expertise treating issues or conditions affecting a woman  reproductive system  including \\nvagi...   \n",
              "1   an otolaryngologist  or ent  is a healthcare specialist who treats conditions affecting your ears  nose and throat  they can also perform head and neck surgeries  including surgeries on your ears  mouth  throat  nose  neck and face \\nanother name...   \n",
              "2   you don t want to take any chances of losing your vision  this is why it s smart to know when you need to visit an eye doctor  here are a few signs that you might need to book an appointment with a specialist \\nblurry vision\\nsudden changes in vi...   \n",
              "3   a pulmonologist is a physician who specializes in the respiratory system  from the windpipe to the lungs  if your complaint involves the lungs or any part of the respiratory system  a pulmonologist is the doc you want to solve the problem \\na sim...   \n",
              "4   reasons to see an internist\\nsigns that a patient needs to see an internal medicine doctor\\nthe list below includes common signs that may make it necessary for patients to make an appointment with an internist \\nthey have chronic pain\\nwhen a pat...   \n",
              "5   a hematologist is a doctor who specializes in researching  diagnosing  treating  and preventing blood disorders and disorders of the lymphatic system  lymph nodes and vessels  \\nif your primary care physician has recommended that you see a hemato...   \n",
              "6   not everyone who has an infectious disease needs an infectious disease specialist  your general internist or primary care physician can take care of most infections  but sometimes specialized expertise is needed to either diagnose or manage speci...   \n",
              "7   what does a cardiologist do \\nyour cardiologist  or heart doctor  helps prevent heart disease through screenings and checkups  they treat symptoms of heart conditions or heart diseases  these diseases can include \\nheart attacks  when blood flow ...   \n",
              "8   a psychiatrist is a medical doctor who s an expert in the field of psychiatry   the branch of medicine focused on the diagnosis  treatment and prevention of mental  emotional and behavioral disorders \\npsychiatrists can diagnose and treat several...   \n",
              "9    scars  acne  moles \\nas your body s first line of defense  your skin takes a lot of hits  not only is it the largest organ in your body  but your skin also protects you from germs  repels water  and covers your blood vessels  nerves  and organs ...   \n",
              "10  if you have unexplained or frequent digestive issues  such as abdominal discomfort or changes to your bowel habits  someone  probably told you to see a gastroenterologist  also sometimes referred to as a gi doctor \\nbut if you ve never seen a gas...   \n",
              "11   signs and symptoms of cancer\\nsigns and symptoms are how the body lets you know you are hurt or sick  signs can be seen and measured  such as a fever or bleeding  symptoms are what you feel or notice  most signs and symptoms of illness do not me...   \n",
              "12  1  shoulder pain\\npain in shoulders that increases at night and gets worse with movement should be examined by an orthopedic doctor  these symptoms are often combined with tenderness around a joint and can be a sign of tendonitis  this condition ...   \n",
              "13  when do you need a radiologist \\na radiologist will be involved in your care if your doctor needs assistance with imaging or certain specialized treatments \\nsome common reasons you might need a radiologist are \\nbroken bone\\ntorn muscle\\npregnan...   \n",
              "14  nephrologists are specialized physicians who diagnose  treat  and manage acute and chronic kidney conditions  living with kidney conditions can be very difficult and affect one s quality of life  so it s always important to prioritize preventive ...   \n",
              "16  a urologist is a medical doctor specializing in conditions that affect the urinary tract in men  women and children  and diseases that affect the reproductive system  these conditions range from peeing too much or too little to being unable to fa...   \n",
              "17  what is an endocrinologist \\nan endocrinologist is a healthcare provider who specializes in endocrinology  a field of medicine that studies conditions related to your hormones  an endocrinologist can diagnose endocrine conditions  develop treatme...   \n",
              "18  a neurologist is a specialist who treats diseases in the brain and spinal cord  the central nervous system   peripheral nerves  nerves connecting the brain and spine to the organs  like the lungs or liver   and muscles  neurological diseases can ...   \n",
              "\n",
              "                                                                                                                                                                                                                                             tok_lem_sentence  \n",
              "0   [what, doe, a, gynecologist, do, a, gynecologist, is, a, doctor, who, specializes, in, woman, reproductive, health, that, is, a, gynecologist, is, a, specialist, with, expertise, treating, issue, or, condition, affecting, a, woman, reproductive, ...  \n",
              "1   [an, otolaryngologist, or, ent, is, a, healthcare, specialist, who, treat, condition, affecting, your, ear, nose, and, throat, they, can, also, perform, head, and, neck, surgery, including, surgery, on, your, ear, mouth, throat, nose, neck, and, ...  \n",
              "2   [you, don, t, want, to, take, any, chance, of, losing, your, vision, this, is, why, it, s, smart, to, know, when, you, need, to, visit, an, eye, doctor, here, are, a, few, sign, that, you, might, need, to, book, an, appointment, with, a, speciali...  \n",
              "3   [a, pulmonologist, is, a, physician, who, specializes, in, the, respiratory, system, from, the, windpipe, to, the, lung, if, your, complaint, involves, the, lung, or, any, part, of, the, respiratory, system, a, pulmonologist, is, the, doc, you, w...  \n",
              "4   [reason, to, see, an, internist, sign, that, a, patient, need, to, see, an, internal, medicine, doctor, the, list, below, includes, common, sign, that, may, make, it, necessary, for, patient, to, make, an, appointment, with, an, internist, they, ...  \n",
              "5   [a, hematologist, is, a, doctor, who, specializes, in, researching, diagnosing, treating, and, preventing, blood, disorder, and, disorder, of, the, lymphatic, system, lymph, node, and, vessel, if, your, primary, care, physician, ha, recommended, ...  \n",
              "6   [not, everyone, who, ha, an, infectious, disease, need, an, infectious, disease, specialist, your, general, internist, or, primary, care, physician, can, take, care, of, most, infection, but, sometimes, specialized, expertise, is, needed, to, eit...  \n",
              "7   [what, doe, a, cardiologist, do, your, cardiologist, or, heart, doctor, help, prevent, heart, disease, through, screening, and, checkup, they, treat, symptom, of, heart, condition, or, heart, disease, these, disease, can, include, heart, attack, ...  \n",
              "8   [a, psychiatrist, is, a, medical, doctor, who, s, an, expert, in, the, field, of, psychiatry, the, branch, of, medicine, focused, on, the, diagnosis, treatment, and, prevention, of, mental, emotional, and, behavioral, disorder, psychiatrist, can,...  \n",
              "9   [scar, acne, mole, a, your, body, s, first, line, of, defense, your, skin, take, a, lot, of, hit, not, only, is, it, the, largest, organ, in, your, body, but, your, skin, also, protects, you, from, germ, repels, water, and, cover, your, blood, ve...  \n",
              "10  [if, you, have, unexplained, or, frequent, digestive, issue, such, a, abdominal, discomfort, or, change, to, your, bowel, habit, someone, probably, told, you, to, see, a, gastroenterologist, also, sometimes, referred, to, a, a, gi, doctor, but, i...  \n",
              "11  [sign, and, symptom, of, cancer, sign, and, symptom, are, how, the, body, let, you, know, you, are, hurt, or, sick, sign, can, be, seen, and, measured, such, a, a, fever, or, bleeding, symptom, are, what, you, feel, or, notice, most, sign, and, s...  \n",
              "12  [1, shoulder, pain, pain, in, shoulder, that, increase, at, night, and, get, worse, with, movement, should, be, examined, by, an, orthopedic, doctor, these, symptom, are, often, combined, with, tenderness, around, a, joint, and, can, be, a, sign,...  \n",
              "13  [when, do, you, need, a, radiologist, a, radiologist, will, be, involved, in, your, care, if, your, doctor, need, assistance, with, imaging, or, certain, specialized, treatment, some, common, reason, you, might, need, a, radiologist, are, broken,...  \n",
              "14  [nephrologists, are, specialized, physician, who, diagnose, treat, and, manage, acute, and, chronic, kidney, condition, living, with, kidney, condition, can, be, very, difficult, and, affect, one, s, quality, of, life, so, it, s, always, importan...  \n",
              "16  [a, urologist, is, a, medical, doctor, specializing, in, condition, that, affect, the, urinary, tract, in, men, woman, and, child, and, disease, that, affect, the, reproductive, system, these, condition, range, from, peeing, too, much, or, too, l...  \n",
              "17  [what, is, an, endocrinologist, an, endocrinologist, is, a, healthcare, provider, who, specializes, in, endocrinology, a, field, of, medicine, that, study, condition, related, to, your, hormone, an, endocrinologist, can, diagnose, endocrine, cond...  \n",
              "18  [a, neurologist, is, a, specialist, who, treat, disease, in, the, brain, and, spinal, cord, the, central, nervous, system, peripheral, nerve, nerve, connecting, the, brain, and, spine, to, the, organ, like, the, lung, or, liver, and, muscle, neur...  "
            ]
          },
          "execution_count": 5,
          "metadata": {},
          "output_type": "execute_result"
        }
      ],
      "source": [
        "print(len(df))\n",
        "df[['sentence', 'clean_sentence', 'tok_lem_sentence']]"
      ]
    },
    {
      "cell_type": "markdown",
      "id": "d8307dbc",
      "metadata": {
        "id": "d8307dbc"
      },
      "source": [
        "## Utility Function"
      ]
    },
    {
      "cell_type": "code",
      "execution_count": 19,
      "id": "90ab6f9c",
      "metadata": {
        "id": "90ab6f9c"
      },
      "outputs": [],
      "source": [
        "## Util function\n",
        "\n",
        "from sklearn.metrics.pairwise import cosine_similarity\n",
        "import numpy as np\n",
        "\n",
        "def extract_best_indices(m, topk, mask=None):\n",
        "    \"\"\"\n",
        "    Use the sum of the cosine distance over all tokens, and return the best matches.\n",
        "    m (np.array): cos matrix of shape (nb_in_tokens, nb_dict_tokens)\n",
        "    topk (int): number of indices to return (from high to lowest in order)\n",
        "    \"\"\"\n",
        "    # return the sum on all tokens of cosinus for each sentence\n",
        "    if len(m.shape) > 1:\n",
        "        cos_sim = np.mean(m, axis=0)\n",
        "        print(\"zdg\",cos_sim) \n",
        "    else:\n",
        "        cos_sim = m\n",
        "        print(cos_sim)\n",
        "    index = np.argsort(cos_sim)[::-1] # from highest idx to smallest score\n",
        "    if mask is not None:\n",
        "        assert mask.shape == m.shape\n",
        "        mask = mask[index]\n",
        "    else:\n",
        "        mask = np.ones(len(cos_sim))\n",
        "        print(mask)\n",
        "    mask = np.logical_or(cos_sim[index] != 0, mask) #eliminate 0 cosine distance\n",
        "    print(mask)\n",
        "    best_index = index[mask][:topk]\n",
        "    print(best_index)\n",
        "    return best_index"
      ]
    },
    {
      "cell_type": "markdown",
      "id": "327f999b",
      "metadata": {
        "id": "327f999b"
      },
      "source": [
        "# TF-IDF"
      ]
    },
    {
      "cell_type": "code",
      "execution_count": 6,
      "id": "984a7be8",
      "metadata": {
        "colab": {
          "base_uri": "https://localhost:8080/"
        },
        "id": "984a7be8",
        "outputId": "06f3df4a-481a-44e0-a023-d51a2b7c8960"
      },
      "outputs": [
        {
          "name": "stderr",
          "output_type": "stream",
          "text": [
            "c:\\Users\\Yasmine\\AppData\\Local\\Programs\\Python\\Python310\\lib\\site-packages\\sklearn\\feature_extraction\\text.py:525: UserWarning: The parameter 'token_pattern' will not be used since 'tokenizer' is not None'\n",
            "  warnings.warn(\n",
            "c:\\Users\\Yasmine\\AppData\\Local\\Programs\\Python\\Python310\\lib\\site-packages\\sklearn\\feature_extraction\\text.py:408: UserWarning: Your stop_words may be inconsistent with your preprocessing. Tokenizing the stop words generated tokens ['doe', 'ha', 'wa'] not in stop_words.\n",
            "  warnings.warn(\n"
          ]
        },
        {
          "data": {
            "text/plain": [
              "(18, 2968)"
            ]
          },
          "execution_count": 6,
          "metadata": {},
          "output_type": "execute_result"
        }
      ],
      "source": [
        "from sklearn.feature_extraction.text import TfidfVectorizer\n",
        "from sklearn.metrics.pairwise import cosine_similarity\n",
        "import numpy as np\n",
        "\n",
        "# Adapt stop words\n",
        "token_stop = tokenizer(' '.join(STOPWORDS), lemmatize=False)\n",
        "\n",
        "# Fit TFIDF\n",
        "vectorizer = TfidfVectorizer(stop_words=token_stop, tokenizer=tokenizer)\n",
        "tfidf_mat = vectorizer.fit_transform(df['sentence'].values) # -> (num_sentences, num_vocabulary)\n",
        "tfidf_mat.shape"
      ]
    },
    {
      "cell_type": "code",
      "execution_count": 9,
      "id": "58de99a3",
      "metadata": {},
      "outputs": [
        {
          "data": {
            "text/plain": [
              "<18x2968 sparse matrix of type '<class 'numpy.float64'>'\n",
              "\twith 7002 stored elements in Compressed Sparse Row format>"
            ]
          },
          "metadata": {},
          "output_type": "display_data"
        }
      ],
      "source": [
        "display(tfidf_mat)"
      ]
    },
    {
      "cell_type": "markdown",
      "id": "8cb7b4cd",
      "metadata": {
        "id": "8cb7b4cd"
      },
      "source": [
        "## Prediction"
      ]
    },
    {
      "cell_type": "code",
      "execution_count": 22,
      "id": "4aa90a0e",
      "metadata": {
        "colab": {
          "base_uri": "https://localhost:8080/",
          "height": 104
        },
        "id": "4aa90a0e",
        "outputId": "20ed5559-6728-489f-9dac-01c31873adbd"
      },
      "outputs": [
        {
          "name": "stdout",
          "output_type": "stream",
          "text": [
            "asgsg (6, 18)\n",
            "[0.         0.00189569 0.0047403  0.         0.         0.0014646\n",
            " 0.         0.00343768 0.         0.         0.         0.01402338\n",
            " 0.04638382 0.00472076 0.         0.         0.00380896 0.00132208]\n",
            "[1. 1. 1. 1. 1. 1. 1. 1. 1. 1. 1. 1. 1. 1. 1. 1. 1. 1.]\n",
            "[ True  True  True  True  True  True  True  True  True  True  True  True\n",
            "  True  True  True  True  True  True]\n",
            "[12 11  2]\n"
          ]
        },
        {
          "data": {
            "text/plain": [
              "12      Orthopedics\n",
              "11         Oncology\n",
              "2     Ophthalmology\n",
              "Name: Specialty, dtype: object"
            ]
          },
          "metadata": {},
          "output_type": "display_data"
        }
      ],
      "source": [
        "def get_recommendations_tfidf(sentence, tfidf_mat):\n",
        "\n",
        "    \"\"\"\n",
        "    Return the database sentences in order of highest cosine similarity relatively to each\n",
        "    token of the target sentence.\n",
        "    \"\"\"\n",
        "    # Embed the query sentence\n",
        "    tokens = [str(tok) for tok in tokenizer(sentence)]\n",
        "    vec = vectorizer.transform(tokens)\n",
        "    # Create list with similarity between query and dataset\n",
        "    mat = cosine_similarity(vec, tfidf_mat)\n",
        "    # Best cosine distance for each token independantly\n",
        "    print(\"asgsg\",mat.shape)\n",
        "    best_index = extract_best_indices(mat, topk=3)\n",
        "    return best_index\n",
        "\n",
        "query_sentence = \"My joints hurt when I move\"\n",
        "best_index = get_recommendations_tfidf(query_sentence, tfidf_mat)\n",
        "\n",
        "display(df['Specialty'].iloc[best_index])"
      ]
    },
    {
      "cell_type": "code",
      "execution_count": 16,
      "id": "CnEVcNQ50I0T",
      "metadata": {
        "colab": {
          "base_uri": "https://localhost:8080/",
          "height": 104
        },
        "id": "CnEVcNQ50I0T",
        "outputId": "01e7f3f2-d61b-4aed-941b-05b4d5b83f25"
      },
      "outputs": [
        {
          "name": "stdout",
          "output_type": "stream",
          "text": [
            "(18, 18)\n"
          ]
        },
        {
          "data": {
            "text/plain": [
              "12         Orthopedics\n",
              "18           Neurology\n",
              "10    Gastroenterology\n",
              "Name: Specialty, dtype: object"
            ]
          },
          "metadata": {},
          "output_type": "display_data"
        }
      ],
      "source": [
        "query2 = \"'sore throat', 'fatigue', 'nausea', 'joint pain', 'chest pain']\"\n",
        "best_index = get_recommendations_tfidf(query2, tfidf_mat)\n",
        "display(df['Specialty'].iloc[best_index])"
      ]
    },
    {
      "cell_type": "code",
      "execution_count": null,
      "id": "dda5ab85",
      "metadata": {},
      "outputs": [],
      "source": []
    }
  ],
  "metadata": {
    "colab": {
      "provenance": []
    },
    "kernelspec": {
      "display_name": "Python 3 (ipykernel)",
      "language": "python",
      "name": "python3"
    },
    "language_info": {
      "codemirror_mode": {
        "name": "ipython",
        "version": 3
      },
      "file_extension": ".py",
      "mimetype": "text/x-python",
      "name": "python",
      "nbconvert_exporter": "python",
      "pygments_lexer": "ipython3",
      "version": "3.10.6"
    }
  },
  "nbformat": 4,
  "nbformat_minor": 5
}
